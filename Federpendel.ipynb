{
 "cells": [
  {
   "cell_type": "markdown",
   "metadata": {},
   "source": [
    "## Schwingungsgleichung des gedämpften Federpendels\n",
    "\n",
    "Für die d'Alembertsche Trägheitskraft des Pendelkörpers mit Masse $m$ unter der Beschleunigung $\\ddot{y}$ gilt\n",
    "$$ F_T = -m\\ddot{y}. $$\n",
    "Auf den Pendelkörper wirken die als äußere Kräfte\n",
    "\\begin{align*}\n",
    "F_F &= -Dy & &\\text{Federkraft (Hook'sches Gesetz)} \\\\\n",
    "F_{R} &= -k\\dot{y} & & \\text{Viskose Reibungskraft}\n",
    "\\end{align*}\n",
    "Unter Anwendung des zweiten Axioms von Newton (Grundgleichung der Mechanik) folgt\n",
    "$$ -m\\ddot{y} = F_T = - (F_F + F_R) = Dy + k\\dot{y} $$\n",
    "Hieraus ergibt sich die Schwingungsgleichung des Federpendels\n",
    "$$\\ddot{y} + \\frac{k}{m}\\dot{y} + \\frac{D}{m}y = 0.$$\n",
    "Unter Einführung der Variablen\n",
    "\\begin{align*}\n",
    "y_1 &= y\\\\\n",
    "y_2 &= \\dot{y}\n",
    "\\end{align*}\n",
    "kann man die Schwingungsgleichung als DGL-System erster Ordnung schreiben\n",
    "\\begin{align*}\n",
    "\\dot{y}_1 &= y_2 \\\\\n",
    "\\dot{y}_2 &=  - \\frac{D}{m}y_1 - \\frac{k}{m}y_2\n",
    "\\end{align*}\n",
    "oder kurz\n",
    "$$\\dot{\\vec y} = A\\vec y$$\n",
    "mit\n",
    "$$A = \\begin{pmatrix} 0 & 1 \\\\ - \\frac{D}{m} & - \\frac{k}{m} \t\\end{pmatrix} $$"
   ]
  },
  {
   "cell_type": "code",
   "execution_count": 10,
   "metadata": {
    "scrolled": true
   },
   "outputs": [],
   "source": [
    "from ipywidgets import interact, interactive, fixed, interact_manual\n",
    "import ipywidgets as widgets\n",
    "from IPython.display import display\n",
    "\n",
    "# Module für komplexe Zahlen, Vektoren/Matrizen, gewöhnliche DGL und Grafikausgabe\n",
    "import cmath\n",
    "import numpy as np\n",
    "from scipy.integrate import odeint\n",
    "import matplotlib.pyplot as plt\n",
    "from matplotlib import gridspec\n",
    "\n",
    "# Schwingungsgleichung für die Auslenkung y des harmonischen Oszillators\n",
    "#   d^2y/dt^2 + k/m dy/dt + D/m y = 0\n",
    "\n",
    "# Parameter der Schwingungsgleichung:\n",
    "#   - Federkonstante D in N/m\n",
    "#   - Masse m in kg\n",
    "#   - viskoser Reibungskoeffizient k in kg/s\n",
    "\n",
    "# Anfangsbedingung:\n",
    "#   - Auslenkung y0 in m\n",
    "#   - Geschwindigkeit y0dot in m/s\n",
    "\n",
    "# Methoden zum Lösen der Schwingungsgleichung:\n",
    "#   - numerisch:       Verwendung von odeint\n",
    "#   - analytisch:      Verwendung der Formeln aus der Vorlesung\n",
    "#   - alle:            Vergleich der Ergebnisse\n",
    "\n",
    "def f(D=1,m=1,k=0.4,y0=1,y0dot=0,Methode='alle'):\n",
    "  \n",
    "  # DGL System für das gedämpfte Federpendel\n",
    "  # y     = (y1, y2)\n",
    "  # A     = (  0  ,   1 )\n",
    "  #         (-D/m , -k/m)\n",
    "  # dy/dt = A*y\n",
    "  A=np.array([[0, 1],[-D/m,-k/m]])\n",
    "  def dy(y,t):\n",
    "    return A.dot(y)\n",
    "  \n",
    "  # Hilfsparameter\n",
    "  delta = k/(2*m)\n",
    "\n",
    "  # Zeitdiskretisierung: 40 Zeitschritte von 0 bis 10 s\n",
    "  t = np.linspace(0,10,40)  \n",
    "  \n",
    "  if (Methode == 'alle' or Methode == 'numerisch'):\n",
    "    # Numerische Lösung des Anfangswertproblems\n",
    "    # dy/dt = A*y\n",
    "    #  y(0) = [y0,y0dot] \n",
    "    y = odeint(func=dy, y0=[y0,y0dot], t=t)\n",
    "\n",
    "  if (Methode == 'alle' or Methode == 'analytisch'):\n",
    "    # Verwendung der Formeln aus der Vorlesung\n",
    "    lambdaAna = [-delta + cmath.sqrt(delta**2 - D/m), -delta - cmath.sqrt(delta**2 - D/m)]\n",
    "    vlambdaAna = [[1,1],[lambdaAna[0],lambdaAna[1]]]\n",
    "\n",
    "  # Visualisierung von Eigenwerten und Schwingungsverhalten des Federpendels\n",
    "  plt.figure(figsize=(16, 4))\n",
    "  gs = gridspec.GridSpec(1, 2, width_ratios=[1, 3])\n",
    "  plt.subplots_adjust(wspace=0.2)\n",
    "    \n",
    "  # 1. Visualisierung der Eigenwerte\n",
    "  ax1 = plt.subplot(gs[0])\n",
    "  ax1.grid(True)\n",
    "  ax1.set_title('Eigenwerte')\n",
    "  plt.ylabel('Imaginärteil')\n",
    "  plt.xlabel('Realteil')\n",
    "  if (Methode == 'alle' or Methode == 'analytisch'):\n",
    "    xmax = max(abs(np.real(lambdaAna)))\n",
    "    ymax = max(abs(np.imag(lambdaAna)))\n",
    "    xymax = max(xmax,ymax)\n",
    "    ax1.set(xlim=(-1.2*xymax, 1.2*xymax), ylim=(-1.2*xymax, 1.2*xymax))\n",
    "    for v in lambdaAna:\n",
    "      ax1.annotate('', xy=[v.real,v.imag], xytext=(0, 0),arrowprops=dict(facecolor='blue',shrink=0,alpha=0.6,width=0.5))\n",
    "\n",
    "  # 2. Visualisierung des Schwingungsverhaltens\n",
    "  ax2 = plt.subplot(gs[1])\n",
    "  ax2.grid(True)\n",
    "  ax2.set_title('Schwingungsverhalten')\n",
    "  plt.ylabel('Auslenkung / m')\n",
    "  plt.xlabel('Zeit / s')\n",
    "\n",
    "  # 2. a) Ausgabe der numerischen Lösung\n",
    "  if (Methode == 'alle' or Methode == 'numerisch'): \n",
    "    ax2.plot(t, y[:,0],\"r.\",label=\"numerisch\")\n",
    "   \n",
    "  # 2. b) Ausgabe der analytischen Lösungen\n",
    "  if (Methode == 'alle' or Methode == 'analytisch'):\n",
    "    if (delta**2 != D/m): # schwache oder starke Dämpfung\n",
    "      # Analytisch berechnete Koeffizienten cAna = [c1,c2] zum Erfüllen der Anfangsbedingung (Formeln aus der Vorlesungs)\n",
    "      cAna = [-lambdaAna[1]*y0/(lambdaAna[0]-lambdaAna[1]), lambdaAna[0]*y0/(lambdaAna[0]-lambdaAna[1])]\n",
    "      ax2.plot(t, (cAna[0]*np.exp(lambdaAna[0]*t)+cAna[1]*np.exp(lambdaAna[1]*t)).real,'g-', label=\"analytisch\")\n",
    "    else: # kritische Dämpfung\n",
    "      ax2.plot(t, ((y0+delta*y0*t)*np.exp(lambdaAna[0]*t)),'g', label=\"analytisch\")    \n",
    "  ax2.legend()\n",
    "  \n",
    "  plt.show()\n"
   ]
  },
  {
   "cell_type": "code",
   "execution_count": 11,
   "metadata": {},
   "outputs": [
    {
     "data": {
      "application/vnd.jupyter.widget-view+json": {
       "model_id": "746efd98d0c3484385f77680c3038638",
       "version_major": 2,
       "version_minor": 0
      },
      "text/plain": [
       "interactive(children=(FloatSlider(value=1.0, description='D', max=5.0), FloatSlider(value=1.0, description='m'…"
      ]
     },
     "metadata": {},
     "output_type": "display_data"
    }
   ],
   "source": [
    "oszillator=interactive(f,D=(0,5,0.1),m=(0.1,5,0.1),k=(0,5,0.1),y0=(0,5,0.1),y0dot=(-5,5,0.1),Methode=['numerisch','analytisch','alle'])\n",
    "display(oszillator)"
   ]
  },
  {
   "cell_type": "code",
   "execution_count": null,
   "metadata": {},
   "outputs": [],
   "source": []
  }
 ],
 "metadata": {
  "kernelspec": {
   "display_name": "Python 3",
   "language": "python",
   "name": "python3"
  },
  "language_info": {
   "codemirror_mode": {
    "name": "ipython",
    "version": 3
   },
   "file_extension": ".py",
   "mimetype": "text/x-python",
   "name": "python",
   "nbconvert_exporter": "python",
   "pygments_lexer": "ipython3",
   "version": "3.7.1"
  }
 },
 "nbformat": 4,
 "nbformat_minor": 2
}
